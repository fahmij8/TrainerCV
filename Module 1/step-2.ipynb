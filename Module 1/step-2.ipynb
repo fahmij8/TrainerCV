{
 "cells": [
  {
   "cell_type": "markdown",
   "source": [
    "# Trainer Computer Vision\n",
    "---\n",
    "\n",
    "## **Module 1 - Step 2**\n",
    "\n",
    "Objective : \n",
    "- Getting used to local python notebook environment (jupyter/jupyter-lab, vscode, etc...)\n",
    "- Creating model case of binary class classification\n",
    "- Creating model to classify face/no-face environment"
   ],
   "metadata": {}
  },
  {
   "cell_type": "markdown",
   "source": [
    "### Import Library"
   ],
   "metadata": {}
  },
  {
   "cell_type": "code",
   "execution_count": null,
   "source": [
    "import tensorflow as tf\r\n",
    "import json\r\n",
    "import matplotlib.pyplot as plt\r\n",
    "import utilities_modul as util"
   ],
   "outputs": [],
   "metadata": {}
  },
  {
   "cell_type": "markdown",
   "source": [
    "### Read Credential"
   ],
   "metadata": {}
  },
  {
   "cell_type": "code",
   "execution_count": null,
   "source": [
    "f = open(\"trainer-userdata.json\")\r\n",
    "data = json.load(f)\r\n",
    "usermail = data[\"email\"]"
   ],
   "outputs": [],
   "metadata": {}
  },
  {
   "cell_type": "markdown",
   "source": [
    "### Prepare Dataset"
   ],
   "metadata": {}
  },
  {
   "cell_type": "code",
   "execution_count": null,
   "source": [
    "base_dir = \"./dataset\""
   ],
   "outputs": [],
   "metadata": {}
  },
  {
   "cell_type": "code",
   "execution_count": null,
   "source": [
    "train_datagen = tf.keras.preprocessing.image.ImageDataGenerator(\r\n",
    "    rescale = 1/255,\r\n",
    "    validation_split = 0.2\r\n",
    ")\r\n",
    "validation_datagen = tf.keras.preprocessing.image.ImageDataGenerator(\r\n",
    "    rescale = 1/255,\r\n",
    "    validation_split = 0.2\r\n",
    ")"
   ],
   "outputs": [],
   "metadata": {}
  },
  {
   "cell_type": "code",
   "execution_count": null,
   "source": [
    "img_shape = (224, 224, 3)\r\n",
    "train_generator = train_datagen.flow_from_directory(\r\n",
    "    base_dir,\r\n",
    "    shuffle=True,\r\n",
    "    target_size= img_shape[:2],\r\n",
    "    class_mode='binary',\r\n",
    "    batch_size=8,\r\n",
    "    subset='training')\r\n",
    "\r\n",
    "validation_generator = validation_datagen.flow_from_directory(\r\n",
    "    base_dir,\r\n",
    "    shuffle=True,\r\n",
    "    target_size= img_shape[:2],\r\n",
    "    class_mode='binary',\r\n",
    "    batch_size=2,\r\n",
    "    subset='validation')"
   ],
   "outputs": [],
   "metadata": {}
  },
  {
   "cell_type": "markdown",
   "source": [
    "### DNN Model\n",
    "\n",
    "Add more layers if you want to!\n",
    "\n",
    "Refer to https://www.tensorflow.org/api_docs/python/tf/keras/layers"
   ],
   "metadata": {}
  },
  {
   "cell_type": "code",
   "execution_count": null,
   "source": [
    "tf.keras.backend.clear_session()\r\n",
    "model = tf.keras.models.Sequential([\r\n",
    "    tf.keras.layers.Conv2D(8, (3,3), activation='relu', input_shape=img_shape),\r\n",
    "    tf.keras.layers.MaxPooling2D(2, 2),\r\n",
    "    tf.keras.layers.Flatten(),\r\n",
    "    tf.keras.layers.Dense(16, activation='relu'),\r\n",
    "    tf.keras.layers.Dense(1, activation='sigmoid')\r\n",
    "])"
   ],
   "outputs": [],
   "metadata": {}
  },
  {
   "cell_type": "code",
   "execution_count": null,
   "source": [
    "model.compile(loss='binary_crossentropy',\r\n",
    "              optimizer='adam',\r\n",
    "              metrics=['accuracy'])"
   ],
   "outputs": [],
   "metadata": {}
  },
  {
   "cell_type": "code",
   "execution_count": null,
   "source": [
    "model.summary()"
   ],
   "outputs": [],
   "metadata": {}
  },
  {
   "cell_type": "markdown",
   "source": [
    "### Model Training"
   ],
   "metadata": {}
  },
  {
   "cell_type": "code",
   "execution_count": null,
   "source": [
    "# Cek Available RAM terlebih dahulu\r\n",
    "!free -h"
   ],
   "outputs": [],
   "metadata": {}
  },
  {
   "cell_type": "code",
   "execution_count": null,
   "source": [
    "# Jalankan kode ini ketika terjadi ResourceExhaustError\r\n",
    "!echo \"upi123\" | sudo -S -k sh -c 'echo 3 > /proc/sys/vm/drop_caches' "
   ],
   "outputs": [],
   "metadata": {}
  },
  {
   "cell_type": "code",
   "execution_count": null,
   "source": [
    "with tf.device('/device:GPU:0'):\r\n",
    "  history = model.fit(train_generator, \r\n",
    "                      epochs = 10, \r\n",
    "                      validation_data = validation_generator, \r\n",
    "                      verbose = 1)"
   ],
   "outputs": [],
   "metadata": {}
  },
  {
   "cell_type": "markdown",
   "source": [
    "### Model Evaluation"
   ],
   "metadata": {}
  },
  {
   "cell_type": "code",
   "execution_count": null,
   "source": [
    "stats = model.evaluate(validation_generator)\r\n",
    "print(f'Accuracy test = {stats[1]}\\nLoss test = {stats[0]}')"
   ],
   "outputs": [],
   "metadata": {}
  },
  {
   "cell_type": "code",
   "execution_count": null,
   "source": [
    "acc = history.history['accuracy']\r\n",
    "val_acc = history.history['val_accuracy']\r\n",
    "loss = history.history['loss']\r\n",
    "val_loss = history.history['val_loss']\r\n",
    "\r\n",
    "epochs = range(len(acc))\r\n",
    "\r\n",
    "plt.plot(epochs, acc, 'r', label='Training accuracy')\r\n",
    "plt.plot(epochs, val_acc, 'b', label='Validation accuracy')\r\n",
    "plt.title('Training and validation accuracy')\r\n",
    "plt.legend()\r\n",
    "plt.figure()\r\n",
    "\r\n",
    "plt.plot(epochs, loss, 'r', label='Training Loss')\r\n",
    "plt.plot(epochs, val_loss, 'b', label='Validation Loss')\r\n",
    "plt.title('Training and validation loss')\r\n",
    "plt.legend()\r\n",
    "\r\n",
    "plt.show()"
   ],
   "outputs": [],
   "metadata": {}
  },
  {
   "cell_type": "code",
   "execution_count": null,
   "source": [
    "validation_generator.class_indices"
   ],
   "outputs": [],
   "metadata": {}
  },
  {
   "cell_type": "markdown",
   "source": [
    "### Model Saving"
   ],
   "metadata": {}
  },
  {
   "cell_type": "code",
   "execution_count": null,
   "source": [
    "model.save('model_module-1.h5')"
   ],
   "outputs": [],
   "metadata": {}
  },
  {
   "cell_type": "markdown",
   "source": [
    "### Grading"
   ],
   "metadata": {}
  },
  {
   "cell_type": "code",
   "execution_count": null,
   "source": [
    "# DON'T EDIT THIS\r\n",
    "# RUN ONLY ONE TIME AFTER YOU FINISH ALL THE CELLS ABOVE\r\n",
    "util.give_grading(usermail=usermail, steps=2, optionalParam=stats)"
   ],
   "outputs": [],
   "metadata": {}
  }
 ],
 "metadata": {
  "interpreter": {
   "hash": "31f2aee4e71d21fbe5cf8b01ff0e069b9275f58929596ceb00d14d90e3e16cd6"
  },
  "kernelspec": {
   "name": "python3",
   "display_name": "Python 3.6.9 64-bit"
  },
  "language_info": {
   "codemirror_mode": {
    "name": "ipython",
    "version": 3
   },
   "file_extension": ".py",
   "mimetype": "text/x-python",
   "name": "python",
   "nbconvert_exporter": "python",
   "pygments_lexer": "ipython3",
   "version": "3.6.9"
  },
  "metadata": {
   "interpreter": {
    "hash": "31f2aee4e71d21fbe5cf8b01ff0e069b9275f58929596ceb00d14d90e3e16cd6"
   }
  }
 },
 "nbformat": 4,
 "nbformat_minor": 4
}